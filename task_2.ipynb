{
 "cells": [
  {
   "cell_type": "code",
   "execution_count": 2,
   "id": "57ac57ba-1d4c-4e2e-974a-0cd2d7e8650f",
   "metadata": {},
   "outputs": [
    {
     "ename": "ModuleNotFoundError",
     "evalue": "No module named 'google.generativeai'",
     "output_type": "error",
     "traceback": [
      "\u001b[1;31m---------------------------------------------------------------------------\u001b[0m",
      "\u001b[1;31mModuleNotFoundError\u001b[0m                       Traceback (most recent call last)",
      "Cell \u001b[1;32mIn[2], line 1\u001b[0m\n\u001b[1;32m----> 1\u001b[0m \u001b[38;5;28;01mimport\u001b[39;00m \u001b[38;5;21;01mgoogle\u001b[39;00m\u001b[38;5;21;01m.\u001b[39;00m\u001b[38;5;21;01mgenerativeai\u001b[39;00m \u001b[38;5;28;01mas\u001b[39;00m \u001b[38;5;21;01mgenai\u001b[39;00m\n\u001b[0;32m      2\u001b[0m \u001b[38;5;28;01mfrom\u001b[39;00m \u001b[38;5;21;01mlangchain_core\u001b[39;00m\u001b[38;5;21;01m.\u001b[39;00m\u001b[38;5;21;01mrunnables\u001b[39;00m \u001b[38;5;28;01mimport\u001b[39;00m RunnableLambda\n\u001b[0;32m      3\u001b[0m \u001b[38;5;28;01mfrom\u001b[39;00m \u001b[38;5;21;01mlanggraph\u001b[39;00m\u001b[38;5;21;01m.\u001b[39;00m\u001b[38;5;21;01mgraph\u001b[39;00m \u001b[38;5;28;01mimport\u001b[39;00m StateGraph, END\n",
      "\u001b[1;31mModuleNotFoundError\u001b[0m: No module named 'google.generativeai'"
     ]
    }
   ],
   "source": [
    "import google.generativeai as genai\n",
    "from langchain_core.runnables import RunnableLambda\n",
    "from langgraph.graph import StateGraph, END\n",
    "from langgraph.graph.render import render_graph"
   ]
  },
  {
   "cell_type": "code",
   "execution_count": null,
   "id": "672d768d-809a-40a8-931e-abd6784798b4",
   "metadata": {},
   "outputs": [],
   "source": [
    "genai.configure(api_key=\"API-KEY\")  \n",
    "gemini_model = genai.GenerativeModel(\"gemini-pro\")\n"
   ]
  },
  {
   "cell_type": "code",
   "execution_count": null,
   "id": "246202bd-2cc7-40f0-b9e5-5f409fdb7e56",
   "metadata": {},
   "outputs": [],
   "source": [
    "def chatbot_node(state):\n",
    "    prompt = state[\"input\"]\n",
    "    # Simple check to route to calculator\n",
    "    if any(op in prompt for op in \"+-*/\") and re.search(r'\\d', prompt):\n",
    "        return {\"next\": \"calculator\", \"input\": prompt}\n",
    "    response = gemini_model.generate_content(prompt)\n",
    "    return {\"output\": response.text, \"input\": prompt}\n"
   ]
  },
  {
   "cell_type": "code",
   "execution_count": null,
   "id": "3dd8feca-533f-43e6-a644-06a05ea2d72a",
   "metadata": {},
   "outputs": [],
   "source": [
    "def calculator_node(state):\n",
    "    expr = state[\"input\"]\n",
    "    try:\n",
    "        # Extract expression safely\n",
    "        safe_expr = re.findall(r\"[-+*/().\\d ]+\", expr)[0]\n",
    "        result = eval(safe_expr)\n",
    "        return {\"output\": f\"Answer: {result}\", \"input\": expr}\n",
    "    except Exception:\n",
    "        return {\"output\": \"Could not evaluate expression.\", \"input\": expr}"
   ]
  },
  {
   "cell_type": "code",
   "execution_count": null,
   "id": "36a66bea-b57d-4317-9a2e-7bb07be75377",
   "metadata": {},
   "outputs": [],
   "source": [
    "builder = StateGraph()\n",
    "\n",
    "builder.add_node(\"chatbot\", RunnableLambda(chatbot_node))\n",
    "builder.add_node(\"calculator\", RunnableLambda(calculator_node))\n",
    "\n",
    "builder.set_entry_point(\"chatbot\")"
   ]
  },
  {
   "cell_type": "code",
   "execution_count": null,
   "id": "16143e8b-3205-4988-92ce-2ed3186ea9fe",
   "metadata": {},
   "outputs": [],
   "source": [
    "graph_builder.add_edge(START,\"assistant\")\n",
    "graph_builder.add_conditional_edges(\"assistant\",tools_condition)\n",
    "graph_builder.add_edge(\"tools\",\"assistant\")"
   ]
  },
  {
   "cell_type": "code",
   "execution_count": null,
   "id": "b86584df-94c0-43c7-9508-2b5ef5f44779",
   "metadata": {},
   "outputs": [],
   "source": [
    "react_graph=graph_builder.compile()"
   ]
  },
  {
   "cell_type": "code",
   "execution_count": null,
   "id": "26fb4948-ee7e-4187-93b3-4a09d3b3950d",
   "metadata": {},
   "outputs": [],
   "source": [
    "display(Image(react_graph.get_graph().draw_mermaid_png()))\n"
   ]
  },
  {
   "cell_type": "code",
   "execution_count": null,
   "id": "678b315f-0b6d-4dd3-b547-ba6b016b3e32",
   "metadata": {},
   "outputs": [],
   "source": [
    "os.environ[\"OPENWEATHERMAP_API_KEY\"] = \"OPENWEATHERMAP API KEY\"\n",
    "weather = OpenWeatherMapAPIWrapper()"
   ]
  },
  {
   "cell_type": "code",
   "execution_count": null,
   "id": "fc6fa55f-33ff-4939-a1f1-e5f45677e0d0",
   "metadata": {},
   "outputs": [],
   "source": [
    "builder.append(weather.run)"
   ]
  },
  {
   "cell_type": "code",
   "execution_count": null,
   "id": "e196c113-5957-4d5b-aa76-b1e354e36c21",
   "metadata": {},
   "outputs": [],
   "source": [
    "llm_with_tools = llm.bind_tools(tools)\n",
    "graph_builder2 = StateGraph(State)\n",
    "graph_builder2.add_node(\"assistant\",chatbot)\n",
    "graph_builder2.add_edge(START,\"assistant\")\n",
    "graph_builder2.add_node(\"tools\",ToolNode(tools))\n"
   ]
  },
  {
   "cell_type": "code",
   "execution_count": null,
   "id": "e0c5d04a-2c8b-4b68-aace-d41c235b529f",
   "metadata": {},
   "outputs": [],
   "source": [
    "from langgraph.prebuilt import create_react_agent"
   ]
  },
  {
   "cell_type": "code",
   "execution_count": null,
   "id": "946336f0-bb5c-41db-8606-9fb5cc915b60",
   "metadata": {},
   "outputs": [],
   "source": [
    "research_agent = create_react_agent(\n",
    "    model=\"gemini-pro\",\n",
    "    tools=[web_search],\n",
    "    prompt=(\n",
    "        \"research about\"\n",
    "        \"about\"\n",
    "    ),\n",
    "    name=\"research_agent\",\n",
    ")"
   ]
  },
  {
   "cell_type": "code",
   "execution_count": null,
   "id": "54d0d8ac-2db1-4989-9d07-8318f1dbcaa6",
   "metadata": {},
   "outputs": [],
   "source": [
    "math_agent = create_react_agent(\n",
    "    model=\"gemini-pro\",\n",
    "   tools = [calculator, add, multiply,subtract,divide],\n",
    "    prompt=(\n",
    "        \"Calculate\"\n",
    "    ),\n",
    "    name=\"math_agent\",\n",
    ")"
   ]
  },
  {
   "cell_type": "code",
   "execution_count": null,
   "id": "bf9d84f4-d9d5-4063-87af-f03ff965a704",
   "metadata": {},
   "outputs": [],
   "source": [
    "weather_agent = create_react_agent(\n",
    "    model=\"gemini-pro\",\n",
    "   tools = [weather.run],\n",
    "    prompt=(\n",
    "        \"weather\"\n",
    "    ),\n",
    "    name=\"weather_agent\",\n",
    ")"
   ]
  },
  {
   "cell_type": "code",
   "execution_count": null,
   "id": "d76e0496-481c-422b-ae7e-1159f50236e7",
   "metadata": {},
   "outputs": [],
   "source": [
    "from langgraph_supervisor import create_supervisor"
   ]
  },
  {
   "cell_type": "code",
   "execution_count": null,
   "id": "12fd957a-1457-465e-86ef-905db27fffae",
   "metadata": {},
   "outputs": [],
   "source": [
    "supervisor = create_supervisor(\n",
    "    model=init_chat_model(\"google_genai:gemini-2.5-flash-preview-04-17\"),\n",
    "    agents=[research_agent, math_agent,weather_agent],\n",
    "    prompt=(\n",
    "        \"Total\"\n",
    "        \"any\"\n",
    "    ),\n",
    "    add_handoff_back_messages=True,\n",
    "    output_mode=\"full_history\",\n",
    ").compile(checkpointer=memory)"
   ]
  },
  {
   "cell_type": "code",
   "execution_count": null,
   "id": "ddc8c87a-4f75-494b-9e59-be6ff2bfe246",
   "metadata": {},
   "outputs": [],
   "source": [
    "display(Image(supervisor.get_graph().draw_mermaid_png()))"
   ]
  }
 ],
 "metadata": {
  "kernelspec": {
   "display_name": "Python 3 (ipykernel)",
   "language": "python",
   "name": "python3"
  },
  "language_info": {
   "codemirror_mode": {
    "name": "ipython",
    "version": 3
   },
   "file_extension": ".py",
   "mimetype": "text/x-python",
   "name": "python",
   "nbconvert_exporter": "python",
   "pygments_lexer": "ipython3",
   "version": "3.12.7"
  }
 },
 "nbformat": 4,
 "nbformat_minor": 5
}
